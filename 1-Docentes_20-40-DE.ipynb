{
 "cells": [
  {
   "cell_type": "code",
   "execution_count": null,
   "id": "b16bb69b",
   "metadata": {},
   "outputs": [],
   "source": [
    "import pandas as pd\n",
    "\n",
    "# Lê a planilha 'Servidores.xlsx' e seleciona a aba 'Resultado da consulta'\n",
    "df = pd.read_excel('Servidores.xlsx', sheet_name='Consulta')\n",
    "\n",
    "# Filtra o DataFrame para manter apenas os registros onde a coluna 'Categoria' é igual a 'Docente'\n",
    "df_docentes = df[df['Categoria'] == 'Docente']\n",
    "\n",
    "# Converte os valores da coluna 'Regime De Trabalho' para string\n",
    "# Isso garante que todos os valores estejam no mesmo formato, facilitando a filtragem e a criação do pivot\n",
    "df_docentes['Regime De Trabalho'] = df_docentes['Regime De Trabalho'].astype(str)\n",
    "\n",
    "# Define os regimes desejados que serão considerados: '20', '40' e 'DE'\n",
    "regimes_desejados = ['20', '40', 'DE']\n",
    "\n",
    "# Filtra o DataFrame para manter apenas os registros cujo 'Regime De Trabalho' está na lista de regimes desejados\n",
    "df_docentes = df_docentes[df_docentes['Regime De Trabalho'].isin(regimes_desejados)]\n",
    "\n",
    "# Cria uma tabela pivô utilizando:\n",
    "# - 'Unidade De Lotação' como índice (cada linha representará uma unidade)\n",
    "# - 'Regime De Trabalho' como colunas (cada coluna representará um regime)\n",
    "# - 'Cpf' para realizar a contagem dos CPFs únicos (usando a função nunique)\n",
    "# fill_value=0 preenche com zero quando não houver registros para algum regime naquela unidade\n",
    "pivot_curso = pd.pivot_table(\n",
    "    df_docentes,\n",
    "    index='Unidade De Exercício',       # Agrupa os dados por Unidade De Lotação\n",
    "    columns='Regime De Trabalho',     # Os diferentes regimes se transformarão em colunas\n",
    "    values='Cpf',                     # Valor a ser agregado: a contagem dos CPFs\n",
    "    aggfunc=pd.Series.nunique,        # Função para contar os valores únicos (CPF)\n",
    "    fill_value=0                      # Preenche com 0 onde não houver dados\n",
    ").reset_index()  # Reseta o índice para transformar o resultado do agrupamento em colunas normais\n",
    "\n",
    "# Renomeia as colunas\n",
    "pivot_curso = pivot_curso.rename(columns={'20': 'Regime 20', '40': 'Regime 40', 'DE': 'Regime DE'})\n",
    "\n",
    "\n",
    "print(pivot_curso)\n",
    "\n",
    "# Define o nome do arquivo\n",
    "output_filename = 'Docentes_Total.xlsx'\n",
    "\n",
    "# Exporta o DataFrame 'pivot_curso' para um arquivo Excel, sem salvar o índice como coluna\n",
    "pivot_curso.to_excel(output_filename, index=False)\n",
    "\n",
    "print(f\"Arquivo gerado: {output_filename}\")\n"
   ]
  }
 ],
 "metadata": {
  "kernelspec": {
   "display_name": "cursos",
   "language": "python",
   "name": "python3"
  },
  "language_info": {
   "codemirror_mode": {
    "name": "ipython",
    "version": 3
   },
   "file_extension": ".py",
   "mimetype": "text/x-python",
   "name": "python",
   "nbconvert_exporter": "python",
   "pygments_lexer": "ipython3",
   "version": "3.13.2"
  }
 },
 "nbformat": 4,
 "nbformat_minor": 5
}
