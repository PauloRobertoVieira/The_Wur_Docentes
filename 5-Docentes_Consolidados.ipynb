{
 "cells": [
  {
   "cell_type": "code",
   "execution_count": 3,
   "id": "3fa5134a",
   "metadata": {},
   "outputs": [
    {
     "name": "stdout",
     "output_type": "stream",
     "text": [
      "Arquivo consolidado criado: Docentes_Consolidado.xlsx\n"
     ]
    }
   ],
   "source": [
    "import pandas as pd\n",
    "\n",
    "df_total = pd.read_excel('Docentes_Total.xlsx')\n",
    "df_estrangeiros = pd.read_excel('Docentes_Estrangeiros.xlsx')\n",
    "df_feminino = pd.read_excel('Docentes_Feminino.xlsx')\n",
    "\n",
    "df_estrangeiros = df_estrangeiros.rename(columns={\n",
    "    'Regime 20': 'Estrangeiros 20',\n",
    "    'Regime 40': 'Estrangeiros 40',\n",
    "    'Regime DE': 'Estrangeiros DE'\n",
    "})\n",
    "\n",
    "df_feminino = df_feminino.rename(columns={\n",
    "    'Regime 20': 'Feminino 20',\n",
    "    'Regime 40': 'Feminino 40',\n",
    "    'Regime DE': 'Feminino DE'\n",
    "})\n",
    "\n",
    "df_consolidado = pd.merge(\n",
    "    df_total,\n",
    "    df_estrangeiros,\n",
    "    on='Unidade De Exercício',\n",
    "    how='outer'   \n",
    ")\n",
    "\n",
    "df_consolidado = df_consolidado.fillna(0)\n",
    "\n",
    "df_consolidado = df_consolidado.sort_values('Unidade De Exercício')\n",
    "\n",
    "df_consolidado.to_excel('Docentes_Consolidado.xlsx', index=False)\n",
    "\n",
    "print(\"Arquivo consolidado criado: Docentes_Consolidado.xlsx\")\n"
   ]
  }
 ],
 "metadata": {
  "kernelspec": {
   "display_name": "cursos",
   "language": "python",
   "name": "python3"
  },
  "language_info": {
   "codemirror_mode": {
    "name": "ipython",
    "version": 3
   },
   "file_extension": ".py",
   "mimetype": "text/x-python",
   "name": "python",
   "nbconvert_exporter": "python",
   "pygments_lexer": "ipython3",
   "version": "3.13.2"
  }
 },
 "nbformat": 4,
 "nbformat_minor": 5
}
