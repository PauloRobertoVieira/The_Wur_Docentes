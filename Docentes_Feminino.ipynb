{
 "cells": [
  {
   "cell_type": "code",
   "execution_count": null,
   "id": "cbf728ef",
   "metadata": {},
   "outputs": [],
   "source": [
    "import pandas as pd\n",
    "\n",
    "df = pd.read_excel('Servidores.xlsx', sheet_name='Consulta')\n",
    "\n",
    "df_docentes = df[df['Categoria'] == 'Docente']\n",
    "\n",
    "df_docentes = df_docentes[df_docentes['Sexo'] == 'Feminino']\n",
    "\n",
    "df_docentes['Regime De Trabalho'] = df_docentes['Regime De Trabalho'].astype(str)\n",
    "\n",
    "regimes_desejados = ['20', '40', 'DE']\n",
    "\n",
    "df_docentes = df_docentes[df_docentes['Regime De Trabalho'].isin(regimes_desejados)]\n",
    "\n",
    "\n",
    "pivot_curso = pd.pivot_table(\n",
    "    df_docentes,\n",
    "    index='Unidade De Exercício',\n",
    "    columns='Regime De Trabalho',\n",
    "    values='Cpf',\n",
    "    aggfunc=pd.Series.nunique,\n",
    "    fill_value=0\n",
    ").reset_index()\n",
    "\n",
    "pivot_curso = pivot_curso.rename(columns={'20': 'Regime 20', '40': 'Regime 40', 'DE': 'Regime DE'})\n",
    "\n",
    "print(pivot_curso)\n",
    "\n",
    "output_filename = 'Docentes_Feminino.xlsx'\n",
    "\n",
    "pivot_curso.to_excel(output_filename, index=False)\n",
    "\n",
    "print(f\"Arquivo gerado: {output_filename}\")\n"
   ]
  }
 ],
 "metadata": {
  "kernelspec": {
   "display_name": "cursos",
   "language": "python",
   "name": "python3"
  },
  "language_info": {
   "codemirror_mode": {
    "name": "ipython",
    "version": 3
   },
   "file_extension": ".py",
   "mimetype": "text/x-python",
   "name": "python",
   "nbconvert_exporter": "python",
   "pygments_lexer": "ipython3",
   "version": "3.13.2"
  }
 },
 "nbformat": 4,
 "nbformat_minor": 5
}
